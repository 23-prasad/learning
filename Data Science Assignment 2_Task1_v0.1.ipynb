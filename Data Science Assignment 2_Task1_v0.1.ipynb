{
 "cells": [
  {
   "cell_type": "markdown",
   "metadata": {},
   "source": [
    "### Below three cells are working references"
   ]
  },
  {
   "cell_type": "code",
   "execution_count": null,
   "metadata": {
    "scrolled": false
   },
   "outputs": [],
   "source": [
    "import requests\n",
    "from bs4 import BeautifulSoup\n",
    "import urllib.request\n",
    "url = \"http://mlg.ucd.ie/modules/yalp/automotive_list.html\"\n",
    "response = urllib.request.urlopen(url)\n",
    "text = response.read().decode()\n",
    "# print(text)\n",
    "lines = text.strip().split(\"\\n\")\n",
    "for l in lines:\n",
    "     print(l)\n"
   ]
  },
  {
   "cell_type": "code",
   "execution_count": null,
   "metadata": {},
   "outputs": [],
   "source": [
    "URL = 'http://mlg.ucd.ie/modules/yalp/automotive_list.html'\n",
    "page = requests.get(URL)\n",
    "soup = BeautifulSoup(page.content, 'html.parser')\n",
    "print(soup.prettify())"
   ]
  },
  {
   "cell_type": "code",
   "execution_count": null,
   "metadata": {},
   "outputs": [],
   "source": [
    "# Open the url and parse the data in the html page\n",
    "\n",
    "import bs4\n",
    "import urllib.request\n",
    "url = \"http://mlg.ucd.ie/modules/yalp/automotive_list.html\"\n",
    "response = urllib.request.urlopen(url)\n",
    "html = response.read().decode()\n",
    "parser = bs4.BeautifulSoup(html,\"html.parser\")\n",
    "print(parser.prettify())\n"
   ]
  },
  {
   "cell_type": "markdown",
   "metadata": {},
   "source": [
    "### Code begins from here\n",
    "\n",
    "***Task 1: Select three review categories of your choice. Scrape all reviews for each\n",
    "category and store them as three separate datasets. For each review, you\n",
    "should store the review text and a class label (i.e. whether the review is\n",
    "“positive” or “negative”).***"
   ]
  },
  {
   "cell_type": "code",
   "execution_count": 21,
   "metadata": {},
   "outputs": [],
   "source": [
    "# import all the libraries required for the assignment\n",
    "import bs4\n",
    "import urllib.request\n",
    "import pandas as pd\n",
    "from sklearn.feature_extraction.text import CountVectorizer\n",
    "from sklearn.model_selection import train_test_split\n",
    "from sklearn.neighbors import KNeighborsClassifier\n",
    "from sklearn.metrics import *\n",
    "from sklearn.model_selection import cross_val_score, RepeatedKFold"
   ]
  },
  {
   "cell_type": "code",
   "execution_count": 16,
   "metadata": {
    "scrolled": false
   },
   "outputs": [],
   "source": [
    "#Define function to open the 3 different category url, read their content and store in separate dataframes\n",
    "\n",
    "\n",
    "def get_url(url):\n",
    "    response = urllib.request.urlopen(url)\n",
    "    html = response.read().decode()\n",
    "#     parser = bs4.BeautifulSoup(html,\"html.parser\")\n",
    "    return html\n",
    "\n",
    "automotive_url = \"http://mlg.ucd.ie/modules/yalp/automotive_list.html\"\n",
    "hairsalon_url =\"http://mlg.ucd.ie/modules/yalp/hair_salons_list.html\"\n",
    "cafes_url= \"http://mlg.ucd.ie/modules/yalp/cafes_list.html\"\n",
    "\n",
    "soup= get_url(cafes_url)\n",
    "parser = bs4.BeautifulSoup(soup,\"html.parser\")\n",
    "# print(parser.prettify())\n",
    "# print(soup)"
   ]
  },
  {
   "cell_type": "code",
   "execution_count": 17,
   "metadata": {},
   "outputs": [],
   "source": [
    "# find 'a' tags to get the links of the businesses\n",
    "\n",
    "temp_business_urls =[]\n",
    "base_url = \"http://mlg.ucd.ie/modules/yalp/\"\n",
    "business_list = parser.find(id= 'all')\n",
    "# print(business_list)\n",
    "\n",
    "def get_business_urls():\n",
    "    for match in business_list.find_all('a'):\n",
    "        link = match.get('href')\n",
    "        temp_business_urls.append(base_url+link)\n",
    "    return temp_business_urls\n",
    "\n",
    "business_urls = get_business_urls()\n",
    "# print(len(business_urls))\n",
    "\n",
    "# for bus in get_business_urls():\n",
    "#     print(bus)\n"
   ]
  },
  {
   "cell_type": "code",
   "execution_count": 18,
   "metadata": {},
   "outputs": [],
   "source": [
    "# Define a function to open the html pages above and read content\n",
    "\n",
    "review_data = []\n",
    "def open_html():\n",
    "    headers = []\n",
    "    headers.append(\"title\")\n",
    "    headers.append(\"review_text\")\n",
    "    headers.append(\"rating\")\n",
    "    review_data.append(headers)\n",
    "    for b_url in business_urls:\n",
    "        response = urllib.request.urlopen(b_url)\n",
    "        html = response.read().decode()\n",
    "        soup = bs4.BeautifulSoup(html,\"html.parser\")\n",
    "#         print(soup)\n",
    "        title = soup.find('h3',{'class': 'info'}).get_text()\n",
    "#         print(title)\n",
    "        reviews = soup.find(id ='all')\n",
    "        \n",
    "        for review in reviews.find_all(class_='review'):\n",
    "            content =[]\n",
    "            review_text = review.find ('p',{'class':'review-text'}).get_text()\n",
    "            # print(review_text)\n",
    "            rating_text = review.find('img')['alt']\n",
    "            if rating_text == '4-star':\n",
    "                rating = \"positive\"\n",
    "            elif rating_text == '5-star':\n",
    "                rating = \"positive\"\n",
    "            elif rating_text == '1-star':\n",
    "                rating = \"negative\"\n",
    "            elif rating_text == '2-star':\n",
    "                rating = \"negative\"\n",
    "            elif rating_text == '3-star':\n",
    "                rating = \"negative\"\n",
    "            else:\n",
    "                #for any other rating the value is assumed to be negative\n",
    "                rating = \"negative\"\n",
    "#             print(rating)\n",
    "            content.append(title)\n",
    "            content.append(review_text)\n",
    "            content.append(rating)  \n",
    "            review_data.append(content)\n",
    "    return\n"
   ]
  },
  {
   "cell_type": "code",
   "execution_count": 19,
   "metadata": {},
   "outputs": [],
   "source": [
    "#Call the function to read review data\n",
    "open_html()\n",
    "#print(review_data)"
   ]
  },
  {
   "cell_type": "code",
   "execution_count": 10,
   "metadata": {
    "scrolled": false
   },
   "outputs": [
    {
     "data": {
      "text/html": [
       "<div>\n",
       "<style scoped>\n",
       "    .dataframe tbody tr th:only-of-type {\n",
       "        vertical-align: middle;\n",
       "    }\n",
       "\n",
       "    .dataframe tbody tr th {\n",
       "        vertical-align: top;\n",
       "    }\n",
       "\n",
       "    .dataframe thead th {\n",
       "        text-align: right;\n",
       "    }\n",
       "</style>\n",
       "<table border=\"1\" class=\"dataframe\">\n",
       "  <thead>\n",
       "    <tr style=\"text-align: right;\">\n",
       "      <th></th>\n",
       "      <th>title</th>\n",
       "      <th>review_text</th>\n",
       "      <th>rating</th>\n",
       "    </tr>\n",
       "  </thead>\n",
       "  <tbody>\n",
       "    <tr>\n",
       "      <th>0</th>\n",
       "      <td>Yalp — 7-Eleven</td>\n",
       "      <td>The man that was working tonight (8-12-17) was...</td>\n",
       "      <td>negative</td>\n",
       "    </tr>\n",
       "    <tr>\n",
       "      <th>1</th>\n",
       "      <td>Yalp — 7-Eleven</td>\n",
       "      <td>Chris is a very rude person. Gave me an attitu...</td>\n",
       "      <td>negative</td>\n",
       "    </tr>\n",
       "    <tr>\n",
       "      <th>2</th>\n",
       "      <td>Yalp — 7-Eleven</td>\n",
       "      <td>One of my favorite gas station to stop at. The...</td>\n",
       "      <td>positive</td>\n",
       "    </tr>\n",
       "    <tr>\n",
       "      <th>3</th>\n",
       "      <td>Yalp — 7-Eleven</td>\n",
       "      <td>Oh thank Heaven for Seven Eleven! I don't know...</td>\n",
       "      <td>negative</td>\n",
       "    </tr>\n",
       "    <tr>\n",
       "      <th>4</th>\n",
       "      <td>Yalp — 7-Eleven</td>\n",
       "      <td>Five stars because of the guy who works weekda...</td>\n",
       "      <td>positive</td>\n",
       "    </tr>\n",
       "    <tr>\n",
       "      <th>5</th>\n",
       "      <td>Yalp — AA Auto Care</td>\n",
       "      <td>I had the best experience here!!!!!! All the e...</td>\n",
       "      <td>positive</td>\n",
       "    </tr>\n",
       "    <tr>\n",
       "      <th>6</th>\n",
       "      <td>Yalp — AA Auto Care</td>\n",
       "      <td>My objective with this shop was to find a good...</td>\n",
       "      <td>negative</td>\n",
       "    </tr>\n",
       "    <tr>\n",
       "      <th>7</th>\n",
       "      <td>Yalp — AA Auto Care</td>\n",
       "      <td>Absolute worst service ever. Went in for oil c...</td>\n",
       "      <td>negative</td>\n",
       "    </tr>\n",
       "    <tr>\n",
       "      <th>8</th>\n",
       "      <td>Yalp — AA Auto Care</td>\n",
       "      <td>Love love love their customer service. I come ...</td>\n",
       "      <td>positive</td>\n",
       "    </tr>\n",
       "    <tr>\n",
       "      <th>9</th>\n",
       "      <td>Yalp — AA Auto Care</td>\n",
       "      <td>I took my friend to this shop to get her oil c...</td>\n",
       "      <td>negative</td>\n",
       "    </tr>\n",
       "  </tbody>\n",
       "</table>\n",
       "</div>"
      ],
      "text/plain": [
       "                 title                                        review_text  \\\n",
       "0      Yalp — 7-Eleven  The man that was working tonight (8-12-17) was...   \n",
       "1      Yalp — 7-Eleven  Chris is a very rude person. Gave me an attitu...   \n",
       "2      Yalp — 7-Eleven  One of my favorite gas station to stop at. The...   \n",
       "3      Yalp — 7-Eleven  Oh thank Heaven for Seven Eleven! I don't know...   \n",
       "4      Yalp — 7-Eleven  Five stars because of the guy who works weekda...   \n",
       "5  Yalp — AA Auto Care  I had the best experience here!!!!!! All the e...   \n",
       "6  Yalp — AA Auto Care  My objective with this shop was to find a good...   \n",
       "7  Yalp — AA Auto Care  Absolute worst service ever. Went in for oil c...   \n",
       "8  Yalp — AA Auto Care  Love love love their customer service. I come ...   \n",
       "9  Yalp — AA Auto Care  I took my friend to this shop to get her oil c...   \n",
       "\n",
       "     rating  \n",
       "0  negative  \n",
       "1  negative  \n",
       "2  positive  \n",
       "3  negative  \n",
       "4  positive  \n",
       "5  positive  \n",
       "6  negative  \n",
       "7  negative  \n",
       "8  positive  \n",
       "9  negative  "
      ]
     },
     "execution_count": 10,
     "metadata": {},
     "output_type": "execute_result"
    }
   ],
   "source": [
    "\n",
    "column_names = review_data.pop(0)\n",
    "df_automotive = pd.DataFrame(review_data,columns=column_names)\n",
    "df_automotive.head(10)\n"
   ]
  },
  {
   "cell_type": "code",
   "execution_count": 15,
   "metadata": {},
   "outputs": [
    {
     "data": {
      "text/html": [
       "<div>\n",
       "<style scoped>\n",
       "    .dataframe tbody tr th:only-of-type {\n",
       "        vertical-align: middle;\n",
       "    }\n",
       "\n",
       "    .dataframe tbody tr th {\n",
       "        vertical-align: top;\n",
       "    }\n",
       "\n",
       "    .dataframe thead th {\n",
       "        text-align: right;\n",
       "    }\n",
       "</style>\n",
       "<table border=\"1\" class=\"dataframe\">\n",
       "  <thead>\n",
       "    <tr style=\"text-align: right;\">\n",
       "      <th></th>\n",
       "      <th>title</th>\n",
       "      <th>review_text</th>\n",
       "      <th>rating</th>\n",
       "    </tr>\n",
       "  </thead>\n",
       "  <tbody>\n",
       "    <tr>\n",
       "      <th>0</th>\n",
       "      <td>Yalp — Ab's Barber Shop</td>\n",
       "      <td>One of the best barbershops I've been to, with...</td>\n",
       "      <td>positive</td>\n",
       "    </tr>\n",
       "    <tr>\n",
       "      <th>1</th>\n",
       "      <td>Yalp — Ab's Barber Shop</td>\n",
       "      <td>Took my son in for a haircut. Barber was great...</td>\n",
       "      <td>positive</td>\n",
       "    </tr>\n",
       "    <tr>\n",
       "      <th>2</th>\n",
       "      <td>Yalp — Ab's Barber Shop</td>\n",
       "      <td>Walked in, said hi. The only barber in there d...</td>\n",
       "      <td>negative</td>\n",
       "    </tr>\n",
       "    <tr>\n",
       "      <th>3</th>\n",
       "      <td>Yalp — Ab's Barber Shop</td>\n",
       "      <td>I came here 10 minutes before 9am to get a hai...</td>\n",
       "      <td>negative</td>\n",
       "    </tr>\n",
       "    <tr>\n",
       "      <th>4</th>\n",
       "      <td>Yalp — Ab's Barber Shop</td>\n",
       "      <td>Great haircut. No fuss no muss, I asked for la...</td>\n",
       "      <td>positive</td>\n",
       "    </tr>\n",
       "    <tr>\n",
       "      <th>5</th>\n",
       "      <td>Yalp — Adore Salon and Boutique</td>\n",
       "      <td>Love this place great atmosphere and energy. V...</td>\n",
       "      <td>positive</td>\n",
       "    </tr>\n",
       "    <tr>\n",
       "      <th>6</th>\n",
       "      <td>Yalp — Adore Salon and Boutique</td>\n",
       "      <td>Loved this salon. It is very clean an smells g...</td>\n",
       "      <td>positive</td>\n",
       "    </tr>\n",
       "    <tr>\n",
       "      <th>7</th>\n",
       "      <td>Yalp — Adore Salon and Boutique</td>\n",
       "      <td>I will never recommend this business to anyone...</td>\n",
       "      <td>negative</td>\n",
       "    </tr>\n",
       "    <tr>\n",
       "      <th>8</th>\n",
       "      <td>Yalp — Adore Salon and Boutique</td>\n",
       "      <td>I bought a Groupon from Sandra Lynn Rosendin f...</td>\n",
       "      <td>positive</td>\n",
       "    </tr>\n",
       "    <tr>\n",
       "      <th>9</th>\n",
       "      <td>Yalp — Adore Salon and Boutique</td>\n",
       "      <td>Ester is fabulous with hair. She colors and no...</td>\n",
       "      <td>positive</td>\n",
       "    </tr>\n",
       "  </tbody>\n",
       "</table>\n",
       "</div>"
      ],
      "text/plain": [
       "                             title  \\\n",
       "0          Yalp — Ab's Barber Shop   \n",
       "1          Yalp — Ab's Barber Shop   \n",
       "2          Yalp — Ab's Barber Shop   \n",
       "3          Yalp — Ab's Barber Shop   \n",
       "4          Yalp — Ab's Barber Shop   \n",
       "5  Yalp — Adore Salon and Boutique   \n",
       "6  Yalp — Adore Salon and Boutique   \n",
       "7  Yalp — Adore Salon and Boutique   \n",
       "8  Yalp — Adore Salon and Boutique   \n",
       "9  Yalp — Adore Salon and Boutique   \n",
       "\n",
       "                                         review_text    rating  \n",
       "0  One of the best barbershops I've been to, with...  positive  \n",
       "1  Took my son in for a haircut. Barber was great...  positive  \n",
       "2  Walked in, said hi. The only barber in there d...  negative  \n",
       "3  I came here 10 minutes before 9am to get a hai...  negative  \n",
       "4  Great haircut. No fuss no muss, I asked for la...  positive  \n",
       "5  Love this place great atmosphere and energy. V...  positive  \n",
       "6  Loved this salon. It is very clean an smells g...  positive  \n",
       "7  I will never recommend this business to anyone...  negative  \n",
       "8  I bought a Groupon from Sandra Lynn Rosendin f...  positive  \n",
       "9  Ester is fabulous with hair. She colors and no...  positive  "
      ]
     },
     "execution_count": 15,
     "metadata": {},
     "output_type": "execute_result"
    }
   ],
   "source": [
    "column_names = review_data.pop(0)\n",
    "df_hairsalon = pd.DataFrame(review_data,columns=column_names)\n",
    "df_hairsalon.head(10)"
   ]
  },
  {
   "cell_type": "code",
   "execution_count": 20,
   "metadata": {},
   "outputs": [
    {
     "data": {
      "text/html": [
       "<div>\n",
       "<style scoped>\n",
       "    .dataframe tbody tr th:only-of-type {\n",
       "        vertical-align: middle;\n",
       "    }\n",
       "\n",
       "    .dataframe tbody tr th {\n",
       "        vertical-align: top;\n",
       "    }\n",
       "\n",
       "    .dataframe thead th {\n",
       "        text-align: right;\n",
       "    }\n",
       "</style>\n",
       "<table border=\"1\" class=\"dataframe\">\n",
       "  <thead>\n",
       "    <tr style=\"text-align: right;\">\n",
       "      <th></th>\n",
       "      <th>title</th>\n",
       "      <th>review_text</th>\n",
       "      <th>rating</th>\n",
       "    </tr>\n",
       "  </thead>\n",
       "  <tbody>\n",
       "    <tr>\n",
       "      <th>0</th>\n",
       "      <td>Yalp — ABC Bakery Coffee Shop</td>\n",
       "      <td>Pros: Lots of items you would not expect from ...</td>\n",
       "      <td>positive</td>\n",
       "    </tr>\n",
       "    <tr>\n",
       "      <th>1</th>\n",
       "      <td>Yalp — ABC Bakery Coffee Shop</td>\n",
       "      <td>Best egg-tarts in town! There's really not muc...</td>\n",
       "      <td>positive</td>\n",
       "    </tr>\n",
       "    <tr>\n",
       "      <th>2</th>\n",
       "      <td>Yalp — ABC Bakery Coffee Shop</td>\n",
       "      <td>I've been to ABC Bakery a few times since I re...</td>\n",
       "      <td>negative</td>\n",
       "    </tr>\n",
       "    <tr>\n",
       "      <th>3</th>\n",
       "      <td>Yalp — ABC Bakery Coffee Shop</td>\n",
       "      <td>FYI, Closed Monday's New ownership for about 1...</td>\n",
       "      <td>negative</td>\n",
       "    </tr>\n",
       "    <tr>\n",
       "      <th>4</th>\n",
       "      <td>Yalp — ABC Bakery Coffee Shop</td>\n",
       "      <td>The inside may not look like much but they mak...</td>\n",
       "      <td>positive</td>\n",
       "    </tr>\n",
       "    <tr>\n",
       "      <th>5</th>\n",
       "      <td>Yalp — ABC Bakery Coffee Shop</td>\n",
       "      <td>I usually come for the egg tart and it is one ...</td>\n",
       "      <td>positive</td>\n",
       "    </tr>\n",
       "    <tr>\n",
       "      <th>6</th>\n",
       "      <td>Yalp — ABC Bakery Coffee Shop</td>\n",
       "      <td>Everything, I meant everything were good. Were...</td>\n",
       "      <td>positive</td>\n",
       "    </tr>\n",
       "    <tr>\n",
       "      <th>7</th>\n",
       "      <td>Yalp — ABC Bakery Coffee Shop</td>\n",
       "      <td>It's more like 3 and a 1/2 stars, but if value...</td>\n",
       "      <td>negative</td>\n",
       "    </tr>\n",
       "    <tr>\n",
       "      <th>8</th>\n",
       "      <td>Yalp — ABC Bakery Coffee Shop</td>\n",
       "      <td>This place got to have the best Hong Kong styl...</td>\n",
       "      <td>positive</td>\n",
       "    </tr>\n",
       "    <tr>\n",
       "      <th>9</th>\n",
       "      <td>Yalp — ABC Bakery Coffee Shop</td>\n",
       "      <td>Make a quick stop here while waiting for dim s...</td>\n",
       "      <td>positive</td>\n",
       "    </tr>\n",
       "  </tbody>\n",
       "</table>\n",
       "</div>"
      ],
      "text/plain": [
       "                           title  \\\n",
       "0  Yalp — ABC Bakery Coffee Shop   \n",
       "1  Yalp — ABC Bakery Coffee Shop   \n",
       "2  Yalp — ABC Bakery Coffee Shop   \n",
       "3  Yalp — ABC Bakery Coffee Shop   \n",
       "4  Yalp — ABC Bakery Coffee Shop   \n",
       "5  Yalp — ABC Bakery Coffee Shop   \n",
       "6  Yalp — ABC Bakery Coffee Shop   \n",
       "7  Yalp — ABC Bakery Coffee Shop   \n",
       "8  Yalp — ABC Bakery Coffee Shop   \n",
       "9  Yalp — ABC Bakery Coffee Shop   \n",
       "\n",
       "                                         review_text    rating  \n",
       "0  Pros: Lots of items you would not expect from ...  positive  \n",
       "1  Best egg-tarts in town! There's really not muc...  positive  \n",
       "2  I've been to ABC Bakery a few times since I re...  negative  \n",
       "3  FYI, Closed Monday's New ownership for about 1...  negative  \n",
       "4  The inside may not look like much but they mak...  positive  \n",
       "5  I usually come for the egg tart and it is one ...  positive  \n",
       "6  Everything, I meant everything were good. Were...  positive  \n",
       "7  It's more like 3 and a 1/2 stars, but if value...  negative  \n",
       "8  This place got to have the best Hong Kong styl...  positive  \n",
       "9  Make a quick stop here while waiting for dim s...  positive  "
      ]
     },
     "execution_count": 20,
     "metadata": {},
     "output_type": "execute_result"
    }
   ],
   "source": [
    "column_names = review_data.pop(0)\n",
    "df_cafes = pd.DataFrame(review_data,columns=column_names)\n",
    "df_cafes.head(10)"
   ]
  },
  {
   "cell_type": "markdown",
   "metadata": {},
   "source": [
    "# Task 1 Conclusion: \n",
    "***Three dataframes created :***\n",
    "***- df_automotive***\n",
    "***- df_hairsalon***\n",
    "***-df_cafes***"
   ]
  },
  {
   "cell_type": "markdown",
   "metadata": {},
   "source": [
    "# Task 2:For each of the three category datasets:\n",
    "\n",
    "***a. From the reviews in this category, apply appropriate preprocessing steps to\n",
    "create a numeric representation of the data, suitable for classification.***\n",
    "\n",
    "***b. Build a classification model to distinguish between “positive” and “negative”\n",
    "reviews using one of the following classifiers:\n",
    "Naive Bayes, Logistic Regression, Random Forests***\n",
    "\n",
    "***c. Test the predictions of the classification model using an appropriate\n",
    "evaluation strategy. Report and discuss the evaluation results in your\n",
    "notebook.***"
   ]
  },
  {
   "cell_type": "markdown",
   "metadata": {},
   "source": [
    "### Data Pre-processing"
   ]
  },
  {
   "cell_type": "code",
   "execution_count": 22,
   "metadata": {},
   "outputs": [],
   "source": [
    "# document and target creation for automotive dataset\n",
    "documents_auto = df_automotive[\"review_text\"]\n",
    "target_auto = df_automotive[\"rating\"]"
   ]
  },
  {
   "cell_type": "code",
   "execution_count": 23,
   "metadata": {},
   "outputs": [],
   "source": [
    "# document and target creation for hairsalon dataset\n",
    "documents_hairsalon = df_hairsalon[\"review_text\"]\n",
    "target_hairsalon = df_hairsalon[\"rating\"]"
   ]
  },
  {
   "cell_type": "code",
   "execution_count": 24,
   "metadata": {},
   "outputs": [],
   "source": [
    "# document and target creation for cafes dataset\n",
    "documents_cafes = df_cafes[\"review_text\"]\n",
    "target_cafes = df_cafes[\"rating\"]"
   ]
  },
  {
   "cell_type": "code",
   "execution_count": 26,
   "metadata": {},
   "outputs": [
    {
     "name": "stdout",
     "output_type": "stream",
     "text": [
      "for automotive:  positive    2544\n",
      "negative    1618\n",
      "rating         5\n",
      "Name: rating, dtype: int64 \n",
      " for hairsalon:  positive    1558\n",
      "negative     442\n",
      "Name: rating, dtype: int64 \n",
      " for cafes:  positive    1462\n",
      "negative     538\n",
      "Name: rating, dtype: int64\n"
     ]
    }
   ],
   "source": [
    "# check class bifurcation for each category\n",
    "print(\"for automotive: \" , target_auto.value_counts(),'\\n',\n",
    "      \"for hairsalon: \" ,target_hairsalon.value_counts(),'\\n',\n",
    "      \"for cafes: \", target_cafes.value_counts()) "
   ]
  },
  {
   "cell_type": "code",
   "execution_count": 28,
   "metadata": {},
   "outputs": [
    {
     "name": "stdout",
     "output_type": "stream",
     "text": [
      "auto: (4167, 2774)\n",
      "hairsalon: (2000, 1510)\n",
      "cafes (2000, 1727)\n"
     ]
    }
   ],
   "source": [
    "# Produce vector representation of each of the documents\n",
    "\n",
    "vectorizer = CountVectorizer( min_df = 10, stop_words=None )\n",
    "auto = vectorizer.fit_transform(documents_auto)\n",
    "hairsalon = vectorizer.fit_transform(documents_hairsalon)\n",
    "cafes = vectorizer.fit_transform(documents_cafes)\n",
    "print(\"auto:\" , auto.shape)\n",
    "print(\"hairsalon:\" , hairsalon.shape)\n",
    "print(\"cafes\", cafes.shape)"
   ]
  },
  {
   "cell_type": "code",
   "execution_count": 31,
   "metadata": {},
   "outputs": [
    {
     "name": "stdout",
     "output_type": "stream",
     "text": [
      "Vocabulary has 1727 distinct auto terms \n",
      " Vocabulary has 1727 distinct hairsalon terms \n",
      " Vocabulary has 1727 distinct cafes terms\n",
      "['although', 'always', 'am', 'amazing', 'ambiance', 'ambience', 'americano', 'amount', 'an', 'and', 'another', 'answer', 'any', 'anyone', 'anything', 'anyway', 'anywhere', 'apart', 'apparently', 'appetizer', 'appetizers', 'apple', 'appreciate', 'appreciated', 'are', 'area', 'areas', 'aren', 'around', 'arrived', 'art', 'arugula', 'as', 'asian', 'ask', 'asked', 'asking', 'assortment', 'at', 'ate', 'atmosphere', 'attention', 'attentive', 'attitude', 'au', 'authentic', 'available', 'avenue', 'average', 'avocado', 'avoid', 'away', 'awesome', 'awful', 'back', 'bacon', 'bad', 'bag', 'bagel', 'bagels', 'baked', 'bakery', 'balance', 'balanced', 'banana', 'bar', 'barely', 'barista', 'baristas', 'bars']\n"
     ]
    }
   ],
   "source": [
    "# check the distinct terms in each of the vectors\n",
    "\n",
    "terms_auto = vectorizer.get_feature_names()\n",
    "terms_hairsalon = vectorizer.get_feature_names()\n",
    "terms_cafes= vectorizer.get_feature_names()\n",
    "print(\"Vocabulary has %d distinct auto terms\" % len(terms_auto),'\\n',\n",
    "     \"Vocabulary has %d distinct hairsalon terms\" % len(terms_hairsalon),'\\n',\n",
    "     \"Vocabulary has %d distinct cafes terms\" % len(terms_cafes))\n",
    "\n",
    "# Display a set of sample terms\n",
    "print(terms_auto[50:120])"
   ]
  },
  {
   "cell_type": "markdown",
   "metadata": {},
   "source": [
    "# Classification and Evaluation "
   ]
  },
  {
   "cell_type": "code",
   "execution_count": 33,
   "metadata": {},
   "outputs": [],
   "source": [
    "# building a k-NN model, and evaluating its performance using a single training/test split\n",
    "# by taking 70:30 training and test set\n",
    "\n",
    "# for automotive category:\n",
    "\n",
    "data_train, data_test, target_train, target_test = train_test_split(auto, target_auto, test_size=0.3)"
   ]
  },
  {
   "cell_type": "code",
   "execution_count": 34,
   "metadata": {},
   "outputs": [
    {
     "name": "stdout",
     "output_type": "stream",
     "text": [
      "Training set has 2916 examples\n",
      "Test set has 1251 examples\n"
     ]
    }
   ],
   "source": [
    "print(\"Training set has %d examples\" % data_train.shape[0] )\n",
    "print(\"Test set has %d examples\" % data_test.shape[0] )"
   ]
  },
  {
   "cell_type": "code",
   "execution_count": 35,
   "metadata": {},
   "outputs": [
    {
     "data": {
      "text/plain": [
       "KNeighborsClassifier(algorithm='auto', leaf_size=30, metric='minkowski',\n",
       "                     metric_params=None, n_jobs=None, n_neighbors=3, p=2,\n",
       "                     weights='uniform')"
      ]
     },
     "execution_count": 35,
     "metadata": {},
     "output_type": "execute_result"
    }
   ],
   "source": [
    "# Prepare the k-NN classification model, for 3 nearest neighbours in this case:\n",
    "model = KNeighborsClassifier(n_neighbors=3)\n",
    "model.fit(data_train, target_train)"
   ]
  },
  {
   "cell_type": "code",
   "execution_count": 36,
   "metadata": {},
   "outputs": [
    {
     "data": {
      "text/plain": [
       "array(['negative', 'positive', 'positive', ..., 'negative', 'positive',\n",
       "       'negative'], dtype=object)"
      ]
     },
     "execution_count": 36,
     "metadata": {},
     "output_type": "execute_result"
    }
   ],
   "source": [
    "#Make predictions for the reviews in the test set.\n",
    "predicted = model.predict(data_test)\n",
    "predicted"
   ]
  },
  {
   "cell_type": "code",
   "execution_count": 37,
   "metadata": {},
   "outputs": [
    {
     "name": "stdout",
     "output_type": "stream",
     "text": [
      "Accuracy = 0.75\n"
     ]
    }
   ],
   "source": [
    "print(\"Accuracy = %.2f\" % accuracy_score(target_test, predicted) )"
   ]
  },
  {
   "cell_type": "code",
   "execution_count": 40,
   "metadata": {},
   "outputs": [
    {
     "ename": "ValueError",
     "evalue": "Found input variables with inconsistent numbers of samples: [4167, 1251]",
     "output_type": "error",
     "traceback": [
      "\u001b[1;31m---------------------------------------------------------------------------\u001b[0m",
      "\u001b[1;31mValueError\u001b[0m                                Traceback (most recent call last)",
      "\u001b[1;32m<ipython-input-40-44760dd8a73d>\u001b[0m in \u001b[0;36m<module>\u001b[1;34m\u001b[0m\n\u001b[1;32m----> 1\u001b[1;33m \u001b[0mcm\u001b[0m \u001b[1;33m=\u001b[0m \u001b[0mconfusion_matrix\u001b[0m\u001b[1;33m(\u001b[0m\u001b[0mtarget_auto\u001b[0m\u001b[1;33m,\u001b[0m \u001b[0mpredicted\u001b[0m\u001b[1;33m,\u001b[0m\u001b[0mlabels\u001b[0m\u001b[1;33m=\u001b[0m\u001b[1;33m[\u001b[0m\u001b[1;34m'negative'\u001b[0m\u001b[1;33m,\u001b[0m\u001b[1;34m'positive'\u001b[0m\u001b[1;33m]\u001b[0m\u001b[1;33m)\u001b[0m\u001b[1;33m\u001b[0m\u001b[1;33m\u001b[0m\u001b[0m\n\u001b[0m\u001b[0;32m      2\u001b[0m \u001b[0mprint\u001b[0m\u001b[1;33m(\u001b[0m\u001b[0mcm\u001b[0m\u001b[1;33m)\u001b[0m\u001b[1;33m\u001b[0m\u001b[1;33m\u001b[0m\u001b[0m\n",
      "\u001b[1;32mC:\\pallavidev\\tools\\Anaconda3\\lib\\site-packages\\sklearn\\metrics\\classification.py\u001b[0m in \u001b[0;36mconfusion_matrix\u001b[1;34m(y_true, y_pred, labels, sample_weight)\u001b[0m\n\u001b[0;32m    251\u001b[0m \u001b[1;33m\u001b[0m\u001b[0m\n\u001b[0;32m    252\u001b[0m     \"\"\"\n\u001b[1;32m--> 253\u001b[1;33m     \u001b[0my_type\u001b[0m\u001b[1;33m,\u001b[0m \u001b[0my_true\u001b[0m\u001b[1;33m,\u001b[0m \u001b[0my_pred\u001b[0m \u001b[1;33m=\u001b[0m \u001b[0m_check_targets\u001b[0m\u001b[1;33m(\u001b[0m\u001b[0my_true\u001b[0m\u001b[1;33m,\u001b[0m \u001b[0my_pred\u001b[0m\u001b[1;33m)\u001b[0m\u001b[1;33m\u001b[0m\u001b[1;33m\u001b[0m\u001b[0m\n\u001b[0m\u001b[0;32m    254\u001b[0m     \u001b[1;32mif\u001b[0m \u001b[0my_type\u001b[0m \u001b[1;32mnot\u001b[0m \u001b[1;32min\u001b[0m \u001b[1;33m(\u001b[0m\u001b[1;34m\"binary\"\u001b[0m\u001b[1;33m,\u001b[0m \u001b[1;34m\"multiclass\"\u001b[0m\u001b[1;33m)\u001b[0m\u001b[1;33m:\u001b[0m\u001b[1;33m\u001b[0m\u001b[1;33m\u001b[0m\u001b[0m\n\u001b[0;32m    255\u001b[0m         \u001b[1;32mraise\u001b[0m \u001b[0mValueError\u001b[0m\u001b[1;33m(\u001b[0m\u001b[1;34m\"%s is not supported\"\u001b[0m \u001b[1;33m%\u001b[0m \u001b[0my_type\u001b[0m\u001b[1;33m)\u001b[0m\u001b[1;33m\u001b[0m\u001b[1;33m\u001b[0m\u001b[0m\n",
      "\u001b[1;32mC:\\pallavidev\\tools\\Anaconda3\\lib\\site-packages\\sklearn\\metrics\\classification.py\u001b[0m in \u001b[0;36m_check_targets\u001b[1;34m(y_true, y_pred)\u001b[0m\n\u001b[0;32m     69\u001b[0m     \u001b[0my_pred\u001b[0m \u001b[1;33m:\u001b[0m \u001b[0marray\u001b[0m \u001b[1;32mor\u001b[0m \u001b[0mindicator\u001b[0m \u001b[0mmatrix\u001b[0m\u001b[1;33m\u001b[0m\u001b[1;33m\u001b[0m\u001b[0m\n\u001b[0;32m     70\u001b[0m     \"\"\"\n\u001b[1;32m---> 71\u001b[1;33m     \u001b[0mcheck_consistent_length\u001b[0m\u001b[1;33m(\u001b[0m\u001b[0my_true\u001b[0m\u001b[1;33m,\u001b[0m \u001b[0my_pred\u001b[0m\u001b[1;33m)\u001b[0m\u001b[1;33m\u001b[0m\u001b[1;33m\u001b[0m\u001b[0m\n\u001b[0m\u001b[0;32m     72\u001b[0m     \u001b[0mtype_true\u001b[0m \u001b[1;33m=\u001b[0m \u001b[0mtype_of_target\u001b[0m\u001b[1;33m(\u001b[0m\u001b[0my_true\u001b[0m\u001b[1;33m)\u001b[0m\u001b[1;33m\u001b[0m\u001b[1;33m\u001b[0m\u001b[0m\n\u001b[0;32m     73\u001b[0m     \u001b[0mtype_pred\u001b[0m \u001b[1;33m=\u001b[0m \u001b[0mtype_of_target\u001b[0m\u001b[1;33m(\u001b[0m\u001b[0my_pred\u001b[0m\u001b[1;33m)\u001b[0m\u001b[1;33m\u001b[0m\u001b[1;33m\u001b[0m\u001b[0m\n",
      "\u001b[1;32mC:\\pallavidev\\tools\\Anaconda3\\lib\\site-packages\\sklearn\\utils\\validation.py\u001b[0m in \u001b[0;36mcheck_consistent_length\u001b[1;34m(*arrays)\u001b[0m\n\u001b[0;32m    203\u001b[0m     \u001b[1;32mif\u001b[0m \u001b[0mlen\u001b[0m\u001b[1;33m(\u001b[0m\u001b[0muniques\u001b[0m\u001b[1;33m)\u001b[0m \u001b[1;33m>\u001b[0m \u001b[1;36m1\u001b[0m\u001b[1;33m:\u001b[0m\u001b[1;33m\u001b[0m\u001b[1;33m\u001b[0m\u001b[0m\n\u001b[0;32m    204\u001b[0m         raise ValueError(\"Found input variables with inconsistent numbers of\"\n\u001b[1;32m--> 205\u001b[1;33m                          \" samples: %r\" % [int(l) for l in lengths])\n\u001b[0m\u001b[0;32m    206\u001b[0m \u001b[1;33m\u001b[0m\u001b[0m\n\u001b[0;32m    207\u001b[0m \u001b[1;33m\u001b[0m\u001b[0m\n",
      "\u001b[1;31mValueError\u001b[0m: Found input variables with inconsistent numbers of samples: [4167, 1251]"
     ]
    }
   ],
   "source": [
    "cm = confusion_matrix(target_auto, predicted,labels=['negative','positive'])\n",
    "print(cm)"
   ]
  },
  {
   "cell_type": "code",
   "execution_count": null,
   "metadata": {},
   "outputs": [],
   "source": []
  }
 ],
 "metadata": {
  "kernelspec": {
   "display_name": "Python 3",
   "language": "python",
   "name": "python3"
  },
  "language_info": {
   "codemirror_mode": {
    "name": "ipython",
    "version": 3
   },
   "file_extension": ".py",
   "mimetype": "text/x-python",
   "name": "python",
   "nbconvert_exporter": "python",
   "pygments_lexer": "ipython3",
   "version": "3.7.3"
  }
 },
 "nbformat": 4,
 "nbformat_minor": 2
}
